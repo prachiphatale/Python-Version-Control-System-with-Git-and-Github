{
  "nbformat": 4,
  "nbformat_minor": 0,
  "metadata": {
    "colab": {
      "provenance": [],
      "toc_visible": true
    },
    "kernelspec": {
      "name": "python3",
      "display_name": "Python 3"
    },
    "language_info": {
      "name": "python"
    }
  },
  "cells": [
    {
      "cell_type": "markdown",
      "source": [
        "Python Version Control with Git and Github"
      ],
      "metadata": {
        "id": "GqZIOW6g8EYW"
      }
    },
    {
      "cell_type": "code",
      "source": [
        "import os\n",
        "os.system('clear')\n"
      ],
      "metadata": {
        "colab": {
          "base_uri": "https://localhost:8080/"
        },
        "id": "ZjUPTU8H8J3B",
        "outputId": "b540091f-c32a-46ba-b85f-488f5e6fcd3d"
      },
      "execution_count": null,
      "outputs": [
        {
          "output_type": "execute_result",
          "data": {
            "text/plain": [
              "0"
            ]
          },
          "metadata": {},
          "execution_count": 1
        }
      ]
    },
    {
      "cell_type": "code",
      "source": [
        "first_name= 'Prachi Prashant'\n",
        "age = 24\n",
        "fav_places = {\n",
        "    \"Prachi Prashant\": \"Gatlinburg\",\n",
        "    \"Yashraj\": \"New York\",\n",
        "    \"Aruna\": \"California\"\n",
        "}\n",
        "name = True\n",
        "\n",
        "print(name)"
      ],
      "metadata": {
        "colab": {
          "base_uri": "https://localhost:8080/"
        },
        "id": "-CtQL_pm87Aq",
        "outputId": "d0210091-d5de-47ed-e926-62652d323752"
      },
      "execution_count": null,
      "outputs": [
        {
          "output_type": "stream",
          "name": "stdout",
          "text": [
            "True\n"
          ]
        }
      ]
    }
  ]
}